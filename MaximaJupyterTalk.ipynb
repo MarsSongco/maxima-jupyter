{
 "cells": [
  {
   "cell_type": "markdown",
   "metadata": {},
   "source": [
    "### Jupyter"
   ]
  },
  {
   "cell_type": "markdown",
   "metadata": {},
   "source": [
    "+ Language-independent part of IPython\n",
    "+ Provides user interfaces (console, notebook)\n",
    "  + browser is UI for notebook server\n",
    "  + convenient cell editing (markdown / code) and evaluation\n",
    "  + notebook provides checkpoint functions in addition to create/save/load\n",
    "  + manage kernel (stop / restart / reconnect)\n",
    "+ Provides document generators (nbconvert)\n",
    "  + HTML, PDF, markdown, code-only, reStructuredText, LaTeX"
   ]
  },
  {
   "cell_type": "markdown",
   "metadata": {},
   "source": [
    "### Maxima"
   ]
  },
  {
   "cell_type": "markdown",
   "metadata": {},
   "source": [
    "+ Computer algebra == formal (ignoring content) manipulation of expressions\n",
    "+ Maxima covers undergraduate math, more or less\n",
    "+ Started in 1968 as part of Project MAC (\"machine-aided cognition\")\n",
    "+ Written in Lisp, now open source, active community\n",
    "+ Standard UI is ASCII-art console (useful, not pretty)\n",
    "+ I'd like to use Jupyter as a UI to compose math + text documents"
   ]
  },
  {
   "cell_type": "markdown",
   "metadata": {},
   "source": [
    "### Jupyter architecture"
   ]
  },
  {
   "cell_type": "markdown",
   "metadata": {},
   "source": [
    "+ Client (front end) separated from kernel (back end)\n",
    "+ Client and kernel talk through sockets provided by ZeroMQ\n"
   ]
  },
  {
   "cell_type": "markdown",
   "metadata": {},
   "source": [
    "### Jupyter architecture diagram"
   ]
  },
  {
   "cell_type": "markdown",
   "metadata": {},
   "source": [
    "![jupyter architecture diagram](http://jupyter-client.readthedocs.org/en/latest/_images/frontend-kernel.png \"Jupyter architecture diagram\")"
   ]
  },
  {
   "cell_type": "markdown",
   "metadata": {},
   "source": [
    "### Messages"
   ]
  },
  {
   "cell_type": "markdown",
   "metadata": {},
   "source": [
    "+ Evaluation:\n",
    "  + Client reads user input, sends string to kernel, e.g.: `\"diff(exp(a*x), x)\"`\n",
    "  + Kernel parses input, calls Maxima function to evaluate, returns result in two forms:\n",
    "    + as the printed form of a Maxima expression\n",
    "    + as LaTeX\n",
    "  + Client chooses an appropriate form to display\n",
    "+ Plot output:\n",
    "  + Same as evaluation, but result is returned as SVG\n",
    "+ Maxima-initiated questions (`asksign`):\n",
    "  + Maxima wants to ask user about the sign of some expression\n",
    "  + Kernel sends input prompt to client\n",
    "  + Client prints prompt, reads user input, sends string to kernel\n",
    "  + Kernel passes user input to Maxima\n",
    "  + Maxima completes whatever it was working on before"
   ]
  },
  {
   "cell_type": "markdown",
   "metadata": {},
   "source": [
    "### Examples"
   ]
  },
  {
   "cell_type": "markdown",
   "metadata": {},
   "source": [
    "#### Formulate an expression"
   ]
  },
  {
   "cell_type": "code",
   "execution_count": 1,
   "metadata": {},
   "outputs": [
    {
     "data": {
      "text/latex": [
       "$${{d^2}\\over{d\\,x^2}}\\,\\left({{1}\\over{\\sqrt{1-a\\,x^2}+1}}\\right)$$"
      ],
      "text/plain": [
       " 2\n",
       "d            1\n",
       "--- (------------------)\n",
       "  2              2\n",
       "dx   sqrt(1 - a x ) + 1\n"
      ]
     },
     "execution_count": 2,
     "metadata": {},
     "output_type": "execute_result"
    }
   ],
   "source": [
    "foo : 'diff (1/(1 + sqrt(1 - a*x^2)), x, 2);"
   ]
  },
  {
   "cell_type": "markdown",
   "metadata": {},
   "source": [
    "#### Evaluate"
   ]
  },
  {
   "cell_type": "code",
   "execution_count": 2,
   "metadata": {},
   "outputs": [
    {
     "data": {
      "text/latex": [
       "$${{a}\\over{\\sqrt{1-a\\,x^2}\\,\\left(\\sqrt{1-a\\,x^2}+1\\right)^2}}+{{a^2\\,x^2}\\over{\\left(1-a\\,x^2\\right)^{{{3}\\over{2}}}\\,\\left(\\sqrt{1-a\\,x^2}+1\\right)^2}}+{{2\\,a^2\\,x^2}\\over{\\left(1-a\\,x^2\\right)\\,\\left(\\sqrt{1-a\\,x^2}+1\\right)^3}}$$"
      ],
      "text/plain": [
       "                                                       2  2\n",
       "                 a                                    a  x\n",
       "------------------------------------ + -----------------------------------\n",
       "            2               2      2           2 3/2              2      2\n",
       "sqrt(1 - a x ) (sqrt(1 - a x ) + 1)    (1 - a x )    (sqrt(1 - a x ) + 1)\n",
       "                                                              2  2\n",
       "                                                           2 a  x\n",
       "                                             + --------------------------------\n",
       "                                                       2               2      3\n",
       "                                               (1 - a x ) (sqrt(1 - a x ) + 1)\n"
      ]
     },
     "execution_count": 3,
     "metadata": {},
     "output_type": "execute_result"
    }
   ],
   "source": [
    "bar : ev (foo, nouns);"
   ]
  },
  {
   "cell_type": "markdown",
   "metadata": {},
   "source": [
    "#### asksign prompt"
   ]
  },
  {
   "cell_type": "code",
   "execution_count": 3,
   "metadata": {},
   "outputs": [
    {
     "name": "stdout",
     "output_type": "stream",
     "text": [
      "Is k equal to - 1?\n",
      "y\n"
     ]
    },
    {
     "data": {
      "text/latex": [
       "$$\\log x$$"
      ],
      "text/plain": [
       "log(x)\n"
      ]
     },
     "execution_count": 4,
     "metadata": {},
     "output_type": "execute_result"
    }
   ],
   "source": [
    "integrate (x^k, x);"
   ]
  },
  {
   "cell_type": "code",
   "execution_count": 4,
   "metadata": {},
   "outputs": [
    {
     "name": "stdout",
     "output_type": "stream",
     "text": [
      "Is k equal to - 1?\n",
      "n\n"
     ]
    },
    {
     "data": {
      "text/latex": [
       "$${{x^{k+1}}\\over{k+1}}$$"
      ],
      "text/plain": [
       " k + 1\n",
       "x\n",
       "------\n",
       "k + 1\n"
      ]
     },
     "execution_count": 5,
     "metadata": {},
     "output_type": "execute_result"
    }
   ],
   "source": [
    "integrate (x^k, x);"
   ]
  },
  {
   "cell_type": "markdown",
   "metadata": {},
   "source": [
    "#### Plot output"
   ]
  },
  {
   "cell_type": "code",
   "execution_count": 5,
   "metadata": {},
   "outputs": [
    {
     "data": {
      "image/svg+xml": [
       "<?xml version=\"1.0\" encoding=\"utf-8\"  standalone=\"no\"?>\n",
       "<svg \n",
       " width=\"600\" height=\"480\"\n",
       " viewBox=\"0 0 600 480\"\n",
       " xmlns=\"http://www.w3.org/2000/svg\"\n",
       " xmlns:xlink=\"http://www.w3.org/1999/xlink\"\n",
       ">\n",
       "\n",
       "<title>Gnuplot</title>\n",
       "<desc>Produced by GNUPLOT 5.2 patchlevel 2 </desc>\n",
       "\n",
       "<g id=\"gnuplot_canvas\">\n",
       "\n",
       "<rect x=\"0\" y=\"0\" width=\"600\" height=\"480\" fill=\"none\"/>\n",
       "<defs>\n",
       "\n",
       "\t<circle id='gpDot' r='0.5' stroke-width='0.5'/>\n",
       "\t<path id='gpPt0' stroke-width='0.190' stroke='currentColor' d='M-1,0 h2 M0,-1 v2'/>\n",
       "\t<path id='gpPt1' stroke-width='0.190' stroke='currentColor' d='M-1,-1 L1,1 M1,-1 L-1,1'/>\n",
       "\t<path id='gpPt2' stroke-width='0.190' stroke='currentColor' d='M-1,0 L1,0 M0,-1 L0,1 M-1,-1 L1,1 M-1,1 L1,-1'/>\n",
       "\t<rect id='gpPt3' stroke-width='0.190' stroke='currentColor' x='-1' y='-1' width='2' height='2'/>\n",
       "\t<rect id='gpPt4' stroke-width='0.190' stroke='currentColor' fill='currentColor' x='-1' y='-1' width='2' height='2'/>\n",
       "\t<circle id='gpPt5' stroke-width='0.190' stroke='currentColor' cx='0' cy='0' r='1'/>\n",
       "\t<use xlink:href='#gpPt5' id='gpPt6' fill='currentColor' stroke='none'/>\n",
       "\t<path id='gpPt7' stroke-width='0.190' stroke='currentColor' d='M0,-1.33 L-1.33,0.67 L1.33,0.67 z'/>\n",
       "\t<use xlink:href='#gpPt7' id='gpPt8' fill='currentColor' stroke='none'/>\n",
       "\t<use xlink:href='#gpPt7' id='gpPt9' stroke='currentColor' transform='rotate(180)'/>\n",
       "\t<use xlink:href='#gpPt9' id='gpPt10' fill='currentColor' stroke='none'/>\n",
       "\t<use xlink:href='#gpPt3' id='gpPt11' stroke='currentColor' transform='rotate(45)'/>\n",
       "\t<use xlink:href='#gpPt11' id='gpPt12' fill='currentColor' stroke='none'/>\n",
       "\t<path id='gpPt13' stroke-width='0.190' stroke='currentColor' d='M0,1.330 L1.265,0.411 L0.782,-1.067 L-0.782,-1.076 L-1.265,0.411 z'/>\n",
       "\t<use xlink:href='#gpPt13' id='gpPt14' fill='currentColor' stroke='none'/>\n",
       "\t<filter id='textbox' filterUnits='objectBoundingBox' x='0' y='0' height='1' width='1'>\n",
       "\t  <feFlood flood-color='white' flood-opacity='1' result='bgnd'/>\n",
       "\t  <feComposite in='SourceGraphic' in2='bgnd' operator='atop'/>\n",
       "\t</filter>\n",
       "\t<filter id='greybox' filterUnits='objectBoundingBox' x='0' y='0' height='1' width='1'>\n",
       "\t  <feFlood flood-color='lightgrey' flood-opacity='1' result='grey'/>\n",
       "\t  <feComposite in='SourceGraphic' in2='grey' operator='atop'/>\n",
       "\t</filter>\n",
       "</defs>\n",
       "<g fill=\"none\" color=\"white\" stroke=\"currentColor\" stroke-width=\"1.00\" stroke-linecap=\"butt\" stroke-linejoin=\"miter\">\n",
       "</g>\n",
       "<g fill=\"none\" color=\"gray\" stroke=\"currentColor\" stroke-width=\"1.00\" stroke-linecap=\"butt\" stroke-linejoin=\"miter\">\n",
       "\t<path stroke='black' stroke-dasharray='2,4'  d='M53.3,216.9 L570.8,216.9  '/></g>\n",
       "<g fill=\"none\" color=\"gray\" stroke=\"currentColor\" stroke-width=\"1.00\" stroke-linecap=\"butt\" stroke-linejoin=\"miter\">\n",
       "\t<path stroke='black' stroke-dasharray='2,4'  d='M312.1,411.0 L312.1,22.9  '/></g>\n",
       "<g fill=\"none\" color=\"black\" stroke=\"currentColor\" stroke-width=\"1.00\" stroke-linecap=\"butt\" stroke-linejoin=\"miter\">\n",
       "\t<path stroke='black'  d='M53.3,22.9 L53.3,411.0 L570.8,411.0 L570.8,22.9 L53.3,22.9 Z  '/></g>\n",
       "<g fill=\"none\" color=\"black\" stroke=\"currentColor\" stroke-width=\"1.00\" stroke-linecap=\"butt\" stroke-linejoin=\"miter\">\n",
       "\t<g transform=\"translate(312.0,468.1)\" stroke=\"none\" fill=\"black\" font-family=\"Arial\" font-size=\"14.00\"  text-anchor=\"middle\">\n",
       "\t\t<text><tspan font-family=\"Arial\" >x</tspan></text>\n",
       "\t</g>\n",
       "</g>\n",
       "<g fill=\"none\" color=\"black\" stroke=\"currentColor\" stroke-width=\"1.00\" stroke-linecap=\"butt\" stroke-linejoin=\"miter\">\n",
       "</g>\n",
       "\t<g id=\"gnuplot_plot_1\" ><title>gnuplot_plot_1</title>\n",
       "<g fill=\"none\" color=\"black\" stroke=\"currentColor\" stroke-width=\"1.00\" stroke-linecap=\"butt\" stroke-linejoin=\"miter\">\n",
       "\t<path stroke='rgb(  0,   0, 255)'  d='M194.7,24.5 L194.9,31.7 L195.2,38.5 L195.5,44.9 L195.8,51.0 L196.1,56.8 L196.3,62.2 L196.6,67.4\n",
       "\t\tL196.9,72.3 L197.2,76.9 L197.5,81.4 L197.7,85.6 L198.0,89.6 L198.3,93.4 L198.6,97.0 L198.8,100.5\n",
       "\t\tL199.1,103.8 L199.4,107.0 L199.7,110.1 L200.0,113.0 L200.2,115.8 L200.5,118.5 L200.8,121.0 L201.1,123.5\n",
       "\t\tL201.4,125.9 L201.6,128.1 L201.9,130.3 L202.2,132.4 L202.5,134.5 L202.8,136.4 L203.0,138.3 L203.3,140.1\n",
       "\t\tL203.6,141.9 L203.9,143.6 L204.1,145.2 L204.4,146.8 L204.7,148.3 L205.0,149.8 L205.3,151.2 L205.5,152.6\n",
       "\t\tL205.8,153.9 L206.1,155.2 L206.4,156.5 L206.7,157.7 L206.9,158.9 L207.2,160.0 L207.5,161.1 L207.8,162.2\n",
       "\t\tL208.0,163.2 L208.3,164.2 L208.6,165.2 L208.9,166.2 L209.2,167.1 L209.4,168.0 L209.7,168.9 L210.0,169.7\n",
       "\t\tL210.3,170.5 L210.6,171.4 L210.8,172.1 L211.1,172.9 L211.4,173.6 L211.7,174.4 L212.0,175.1 L212.2,175.8\n",
       "\t\tL212.5,176.4 L212.8,177.1 L213.1,177.7 L213.3,178.3 L213.6,179.0 L213.9,179.5 L214.5,180.7 L215.0,181.8\n",
       "\t\tL215.6,182.8 L216.1,183.8 L216.7,184.8 L217.2,185.7 L217.8,186.5 L218.4,187.4 L218.9,188.2 L219.5,188.9\n",
       "\t\tL220.0,189.6 L220.6,190.3 L221.2,191.0 L221.7,191.7 L222.3,192.3 L222.8,192.9 L223.4,193.5 L223.9,194.0\n",
       "\t\tL224.5,194.6 L225.1,195.1 L225.6,195.6 L226.2,196.0 L226.7,196.5 L227.3,197.0 L227.8,197.4 L228.4,197.8\n",
       "\t\tL229.0,198.2 L229.5,198.6 L230.1,199.0 L230.6,199.3 L231.2,199.7 L231.7,200.0 L232.3,200.3 L232.9,200.7\n",
       "\t\tL233.4,201.0 L234.0,201.3 L234.5,201.6 L235.1,201.8 L235.7,202.1 L236.2,202.4 L236.8,202.6 L237.3,202.9\n",
       "\t\tL237.9,203.1 L238.4,203.4 L239.0,203.6 L239.6,203.8 L240.1,204.0 L240.7,204.3 L241.2,204.5 L241.8,204.7\n",
       "\t\tL242.3,204.9 L242.9,205.0 L243.5,205.2 L244.0,205.4 L244.6,205.6 L245.1,205.7 L245.7,205.9 L246.2,206.1\n",
       "\t\tL246.8,206.2 L247.4,206.4 L247.9,206.5 L248.5,206.7 L249.0,206.8 L249.6,207.0 L250.2,207.1 L250.7,207.2\n",
       "\t\tL251.3,207.3 L251.8,207.5 L252.4,207.6 L252.9,207.7 L253.5,207.8 L254.1,207.9 L254.6,208.0 L255.2,208.2\n",
       "\t\tL255.7,208.3 L256.3,208.4 L256.8,208.5 L257.4,208.6 L258.0,208.7 L258.5,208.8 L259.1,208.8 L259.6,208.9\n",
       "\t\tL260.2,209.0 L260.7,209.1 L261.3,209.2 L261.9,209.3 L262.4,209.3 L263.0,209.4 L263.5,209.5 L264.1,209.6\n",
       "\t\tL264.6,209.6 L265.2,209.7 L265.8,209.8 L266.3,209.9 L266.9,209.9 L267.4,210.0 L268.0,210.1 L268.6,210.1\n",
       "\t\tL269.1,210.2 L269.7,210.2 L270.2,210.3 L270.8,210.3 L271.3,210.4 L271.9,210.5 L272.5,210.5 L273.0,210.6\n",
       "\t\tL273.6,210.6 L274.1,210.7 L274.7,210.7 L275.2,210.8 L275.8,210.8 L276.4,210.8 L276.9,210.9 L277.5,210.9\n",
       "\t\tL278.0,211.0 L278.6,211.0 L279.1,211.1 L279.7,211.1 L280.3,211.1 L280.8,211.2 L281.4,211.2 L281.9,211.2\n",
       "\t\tL282.5,211.3 L283.1,211.3 L283.6,211.3 L284.2,211.4 L284.7,211.4 L285.3,211.4 L285.8,211.5 L286.4,211.5\n",
       "\t\tL287.0,211.5 L287.5,211.5 L288.1,211.6 L288.6,211.6 L289.2,211.6 L289.7,211.6 L290.3,211.7 L290.9,211.7\n",
       "\t\tL291.4,211.7 L292.0,211.7 L292.5,211.8 L293.1,211.8 L293.6,211.8 L294.2,211.8 L295.3,211.8 L296.4,211.9\n",
       "\t\tL297.6,211.9 L298.7,211.9 L299.8,212.0 L300.9,212.0 L302.0,212.0 L303.1,212.0 L304.2,212.0 L305.4,212.1\n",
       "\t\tL306.5,212.1 L307.6,212.1 L308.7,212.1 L309.8,212.1 L310.9,212.1 L312.1,212.1 L312.6,212.1 L313.2,212.1\n",
       "\t\tL313.7,212.1 L314.3,212.1 L314.8,212.1 L315.4,212.1 L316.0,212.1 L316.5,212.1 L317.6,212.1 L318.7,212.1\n",
       "\t\tL319.9,212.0 L321.0,212.0 L322.1,212.0 L323.2,212.0 L324.3,212.0 L325.4,211.9 L326.5,211.9 L327.7,211.9\n",
       "\t\tL328.8,211.8 L329.9,211.8 L331.0,211.8 L332.1,211.7 L333.2,211.7 L334.4,211.6 L335.5,211.6 L336.6,211.5\n",
       "\t\tL337.7,211.5 L338.8,211.4 L339.9,211.4 L341.0,211.3 L342.2,211.2 L343.3,211.2 L344.4,211.1 L345.5,211.0\n",
       "\t\tL346.6,210.9 L347.7,210.8 L348.9,210.8 L350.0,210.7 L351.1,210.6 L352.2,210.5 L353.3,210.3 L354.4,210.2\n",
       "\t\tL355.5,210.1 L356.7,210.0 L357.2,209.9 L357.8,209.9 L358.3,209.8 L358.9,209.7 L359.5,209.6 L360.0,209.6\n",
       "\t\tL360.6,209.5 L361.1,209.4 L361.7,209.3 L362.2,209.3 L362.8,209.2 L363.4,209.1 L363.9,209.0 L364.5,208.9\n",
       "\t\tL365.0,208.8 L365.6,208.8 L366.1,208.7 L366.7,208.6 L367.3,208.5 L367.8,208.4 L368.4,208.3 L368.9,208.2\n",
       "\t\tL369.5,208.0 L370.0,207.9 L370.6,207.8 L371.2,207.7 L371.7,207.6 L372.3,207.5 L372.8,207.3 L373.4,207.2\n",
       "\t\tL373.9,207.1 L374.5,207.0 L375.1,206.8 L375.6,206.7 L376.2,206.5 L376.7,206.4 L377.3,206.2 L377.9,206.1\n",
       "\t\tL378.4,205.9 L379.0,205.7 L379.5,205.6 L380.1,205.4 L380.6,205.2 L381.2,205.0 L381.8,204.9 L382.3,204.7\n",
       "\t\tL382.9,204.5 L383.4,204.3 L384.0,204.0 L384.5,203.8 L385.1,203.6 L385.7,203.4 L386.2,203.1 L386.8,202.9\n",
       "\t\tL387.3,202.6 L387.9,202.4 L388.4,202.1 L389.0,201.8 L389.6,201.6 L390.1,201.3 L390.7,201.0 L391.2,200.7\n",
       "\t\tL391.8,200.3 L392.4,200.0 L392.9,199.7 L393.5,199.3 L394.0,199.0 L394.6,198.6 L395.1,198.2 L395.7,197.8\n",
       "\t\tL396.3,197.4 L396.8,197.0 L397.4,196.5 L397.9,196.0 L398.5,195.6 L399.0,195.1 L399.6,194.6 L400.2,194.0\n",
       "\t\tL400.7,193.5 L401.3,192.9 L401.8,192.3 L402.4,191.7 L402.9,191.0 L403.5,190.3 L404.1,189.6 L404.6,188.9\n",
       "\t\tL405.2,188.2 L405.7,187.4 L406.3,186.5 L406.9,185.7 L407.4,184.8 L408.0,183.8 L408.5,182.8 L409.1,181.8\n",
       "\t\tL409.6,180.7 L410.2,179.5 L410.8,178.3 L411.3,177.1 L411.9,175.8 L412.4,174.4 L413.0,172.9 L413.5,171.4\n",
       "\t\tL414.1,169.7 L414.7,168.0 L414.9,167.1 L415.2,166.2 L415.5,165.2 L415.8,164.2 L416.1,163.2 L416.3,162.2\n",
       "\t\tL416.6,161.1 L416.9,160.0 L417.2,158.9 L417.4,157.7 L417.7,156.5 L418.0,155.2 L418.3,153.9 L418.6,152.6\n",
       "\t\tL418.8,151.2 L419.1,149.8 L419.4,148.3 L419.7,146.8 L420.0,145.2 L420.2,143.6 L420.5,141.9 L420.8,140.1\n",
       "\t\tL421.1,138.3 L421.3,136.4 L421.6,134.5 L421.9,132.4 L422.2,130.3 L422.5,128.1 L422.7,125.9 L423.0,123.5\n",
       "\t\tL423.3,121.0 L423.6,118.5 L423.9,115.8 L424.1,113.0 L424.4,110.1 L424.7,107.0 L425.0,103.8 L425.3,100.5\n",
       "\t\tL425.5,97.0 L425.8,93.4 L426.1,89.6 L426.4,85.6 L426.6,81.4 L426.9,76.9 L427.2,72.3 L427.5,67.4\n",
       "\t\tL427.8,62.2 L428.0,56.8 L428.3,51.0 L428.6,44.9 L428.9,38.5 L429.2,31.7 L429.4,24.5  '/></g>\n",
       "\t</g>\n",
       "<g fill=\"none\" color=\"black\" stroke=\"currentColor\" stroke-width=\"1.00\" stroke-linecap=\"butt\" stroke-linejoin=\"miter\">\n",
       "\t<path stroke='black'  d='M53.3,411.0 L63.8,411.0 M570.8,411.0 L560.3,411.0  '/>\t<g transform=\"translate(43.6,415.6)\" stroke=\"none\" fill=\"black\" font-family=\"Arial\" font-size=\"14.00\"  text-anchor=\"end\">\n",
       "\t\t<text><tspan font-family=\"Arial\" >-10</tspan></text>\n",
       "\t</g>\n",
       "</g>\n",
       "<g fill=\"none\" color=\"black\" stroke=\"currentColor\" stroke-width=\"1.00\" stroke-linecap=\"butt\" stroke-linejoin=\"miter\">\n",
       "\t<path stroke='black'  d='M53.3,314.0 L63.8,314.0 M570.8,314.0 L560.3,314.0  '/>\t<g transform=\"translate(43.6,318.6)\" stroke=\"none\" fill=\"black\" font-family=\"Arial\" font-size=\"14.00\"  text-anchor=\"end\">\n",
       "\t\t<text><tspan font-family=\"Arial\" >-5</tspan></text>\n",
       "\t</g>\n",
       "</g>\n",
       "<g fill=\"none\" color=\"black\" stroke=\"currentColor\" stroke-width=\"1.00\" stroke-linecap=\"butt\" stroke-linejoin=\"miter\">\n",
       "\t<path stroke='black'  d='M53.3,216.9 L63.8,216.9 M570.8,216.9 L560.3,216.9  '/>\t<g transform=\"translate(43.6,221.5)\" stroke=\"none\" fill=\"black\" font-family=\"Arial\" font-size=\"14.00\"  text-anchor=\"end\">\n",
       "\t\t<text><tspan font-family=\"Arial\" > 0</tspan></text>\n",
       "\t</g>\n",
       "</g>\n",
       "<g fill=\"none\" color=\"black\" stroke=\"currentColor\" stroke-width=\"1.00\" stroke-linecap=\"butt\" stroke-linejoin=\"miter\">\n",
       "\t<path stroke='black'  d='M53.3,119.9 L63.8,119.9 M570.8,119.9 L560.3,119.9  '/>\t<g transform=\"translate(43.6,124.5)\" stroke=\"none\" fill=\"black\" font-family=\"Arial\" font-size=\"14.00\"  text-anchor=\"end\">\n",
       "\t\t<text><tspan font-family=\"Arial\" > 5</tspan></text>\n",
       "\t</g>\n",
       "</g>\n",
       "<g fill=\"none\" color=\"black\" stroke=\"currentColor\" stroke-width=\"1.00\" stroke-linecap=\"butt\" stroke-linejoin=\"miter\">\n",
       "\t<path stroke='black'  d='M53.3,22.9 L63.8,22.9 M570.8,22.9 L560.3,22.9  '/>\t<g transform=\"translate(43.6,27.5)\" stroke=\"none\" fill=\"black\" font-family=\"Arial\" font-size=\"14.00\"  text-anchor=\"end\">\n",
       "\t\t<text><tspan font-family=\"Arial\" > 10</tspan></text>\n",
       "\t</g>\n",
       "</g>\n",
       "<g fill=\"none\" color=\"black\" stroke=\"currentColor\" stroke-width=\"1.00\" stroke-linecap=\"butt\" stroke-linejoin=\"miter\">\n",
       "\t<path stroke='black'  d='M53.3,411.0 L53.3,400.5 M53.3,22.9 L53.3,33.4  '/>\t<g transform=\"translate(53.3,436.6)\" stroke=\"none\" fill=\"black\" font-family=\"Arial\" font-size=\"14.00\"  text-anchor=\"middle\">\n",
       "\t\t<text><tspan font-family=\"Arial\" >-2</tspan></text>\n",
       "\t</g>\n",
       "</g>\n",
       "<g fill=\"none\" color=\"black\" stroke=\"currentColor\" stroke-width=\"1.00\" stroke-linecap=\"butt\" stroke-linejoin=\"miter\">\n",
       "\t<path stroke='black'  d='M118.0,411.0 L118.0,400.5 M118.0,22.9 L118.0,33.4  '/>\t<g transform=\"translate(118.0,436.6)\" stroke=\"none\" fill=\"black\" font-family=\"Arial\" font-size=\"14.00\"  text-anchor=\"middle\">\n",
       "\t\t<text><tspan font-family=\"Arial\" >-1.5</tspan></text>\n",
       "\t</g>\n",
       "</g>\n",
       "<g fill=\"none\" color=\"black\" stroke=\"currentColor\" stroke-width=\"1.00\" stroke-linecap=\"butt\" stroke-linejoin=\"miter\">\n",
       "\t<path stroke='black'  d='M182.7,411.0 L182.7,400.5 M182.7,22.9 L182.7,33.4  '/>\t<g transform=\"translate(182.7,436.6)\" stroke=\"none\" fill=\"black\" font-family=\"Arial\" font-size=\"14.00\"  text-anchor=\"middle\">\n",
       "\t\t<text><tspan font-family=\"Arial\" >-1</tspan></text>\n",
       "\t</g>\n",
       "</g>\n",
       "<g fill=\"none\" color=\"black\" stroke=\"currentColor\" stroke-width=\"1.00\" stroke-linecap=\"butt\" stroke-linejoin=\"miter\">\n",
       "\t<path stroke='black'  d='M247.4,411.0 L247.4,400.5 M247.4,22.9 L247.4,33.4  '/>\t<g transform=\"translate(247.4,436.6)\" stroke=\"none\" fill=\"black\" font-family=\"Arial\" font-size=\"14.00\"  text-anchor=\"middle\">\n",
       "\t\t<text><tspan font-family=\"Arial\" >-0.5</tspan></text>\n",
       "\t</g>\n",
       "</g>\n",
       "<g fill=\"none\" color=\"black\" stroke=\"currentColor\" stroke-width=\"1.00\" stroke-linecap=\"butt\" stroke-linejoin=\"miter\">\n",
       "\t<path stroke='black'  d='M312.1,411.0 L312.1,400.5 M312.1,22.9 L312.1,33.4  '/>\t<g transform=\"translate(312.1,436.6)\" stroke=\"none\" fill=\"black\" font-family=\"Arial\" font-size=\"14.00\"  text-anchor=\"middle\">\n",
       "\t\t<text><tspan font-family=\"Arial\" > 0</tspan></text>\n",
       "\t</g>\n",
       "</g>\n",
       "<g fill=\"none\" color=\"black\" stroke=\"currentColor\" stroke-width=\"1.00\" stroke-linecap=\"butt\" stroke-linejoin=\"miter\">\n",
       "\t<path stroke='black'  d='M376.7,411.0 L376.7,400.5 M376.7,22.9 L376.7,33.4  '/>\t<g transform=\"translate(376.7,436.6)\" stroke=\"none\" fill=\"black\" font-family=\"Arial\" font-size=\"14.00\"  text-anchor=\"middle\">\n",
       "\t\t<text><tspan font-family=\"Arial\" > 0.5</tspan></text>\n",
       "\t</g>\n",
       "</g>\n",
       "<g fill=\"none\" color=\"black\" stroke=\"currentColor\" stroke-width=\"1.00\" stroke-linecap=\"butt\" stroke-linejoin=\"miter\">\n",
       "\t<path stroke='black'  d='M441.4,411.0 L441.4,400.5 M441.4,22.9 L441.4,33.4  '/>\t<g transform=\"translate(441.4,436.6)\" stroke=\"none\" fill=\"black\" font-family=\"Arial\" font-size=\"14.00\"  text-anchor=\"middle\">\n",
       "\t\t<text><tspan font-family=\"Arial\" > 1</tspan></text>\n",
       "\t</g>\n",
       "</g>\n",
       "<g fill=\"none\" color=\"black\" stroke=\"currentColor\" stroke-width=\"1.00\" stroke-linecap=\"butt\" stroke-linejoin=\"miter\">\n",
       "\t<path stroke='black'  d='M506.1,411.0 L506.1,400.5 M506.1,22.9 L506.1,33.4  '/>\t<g transform=\"translate(506.1,436.6)\" stroke=\"none\" fill=\"black\" font-family=\"Arial\" font-size=\"14.00\"  text-anchor=\"middle\">\n",
       "\t\t<text><tspan font-family=\"Arial\" > 1.5</tspan></text>\n",
       "\t</g>\n",
       "</g>\n",
       "<g fill=\"none\" color=\"black\" stroke=\"currentColor\" stroke-width=\"1.00\" stroke-linecap=\"butt\" stroke-linejoin=\"miter\">\n",
       "\t<path stroke='black'  d='M570.8,411.0 L570.8,400.5 M570.8,22.9 L570.8,33.4  '/>\t<g transform=\"translate(570.8,436.6)\" stroke=\"none\" fill=\"black\" font-family=\"Arial\" font-size=\"14.00\"  text-anchor=\"middle\">\n",
       "\t\t<text><tspan font-family=\"Arial\" > 2</tspan></text>\n",
       "\t</g>\n",
       "</g>\n",
       "<g fill=\"none\" color=\"black\" stroke=\"currentColor\" stroke-width=\"1.00\" stroke-linecap=\"butt\" stroke-linejoin=\"miter\">\n",
       "</g>\n",
       "<g fill=\"none\" color=\"gray\" stroke=\"currentColor\" stroke-width=\"1.00\" stroke-linecap=\"butt\" stroke-linejoin=\"miter\">\n",
       "\t<path stroke='black' stroke-dasharray='2,4'  d='M53.3,216.9 L570.8,216.9  '/></g>\n",
       "<g fill=\"none\" color=\"gray\" stroke=\"currentColor\" stroke-width=\"1.00\" stroke-linecap=\"butt\" stroke-linejoin=\"miter\">\n",
       "\t<path stroke='black' stroke-dasharray='2,4'  d='M312.1,411.0 L312.1,22.9  '/></g>\n",
       "<g fill=\"none\" color=\"gray\" stroke=\"black\" stroke-width=\"2.00\" stroke-linecap=\"butt\" stroke-linejoin=\"miter\">\n",
       "</g>\n",
       "<g fill=\"none\" color=\"black\" stroke=\"currentColor\" stroke-width=\"2.00\" stroke-linecap=\"butt\" stroke-linejoin=\"miter\">\n",
       "</g>\n",
       "<g fill=\"none\" color=\"black\" stroke=\"black\" stroke-width=\"1.00\" stroke-linecap=\"butt\" stroke-linejoin=\"miter\">\n",
       "</g>\n",
       "<g fill=\"none\" color=\"black\" stroke=\"currentColor\" stroke-width=\"1.00\" stroke-linecap=\"butt\" stroke-linejoin=\"miter\">\n",
       "\t<path stroke='black'  d='M53.3,22.9 L53.3,411.0 L570.8,411.0 L570.8,22.9 L53.3,22.9 Z  '/></g>\n",
       "<g fill=\"none\" color=\"black\" stroke=\"currentColor\" stroke-width=\"1.00\" stroke-linecap=\"butt\" stroke-linejoin=\"miter\">\n",
       "</g>\n",
       "</g>\n",
       "</svg>\n",
       "\n"
      ],
      "text/plain": [
       "/tmp/maxplot.svg"
      ]
     },
     "execution_count": 6,
     "metadata": {},
     "output_type": "execute_result"
    },
    {
     "name": "stdout",
     "output_type": "stream",
     "text": [
      "plot2d: expression evaluates to non-numeric value somewhere in plotting range.\n",
      "plot2d: some values were clipped.\n"
     ]
    }
   ],
   "source": [
    "plot2d (subst (a = 1, bar), [x, -2, 2], [y, -10, 10], [svg_file, \"maxplot.svg\"]);"
   ]
  },
  {
   "cell_type": "markdown",
   "metadata": {},
   "source": [
    "### Minor features"
   ]
  },
  {
   "cell_type": "markdown",
   "metadata": {},
   "source": [
    "+ Code syntax highlighting\n",
    "  + In browser via CodeMirror\n",
    "  + In HTML output via Pygments\n",
    "  + Maxima-specific stuff is encapsulated in a function which only does some regex matching"
   ]
  },
  {
   "cell_type": "markdown",
   "metadata": {},
   "source": [
    "### Links"
   ]
  },
  {
   "cell_type": "markdown",
   "metadata": {},
   "source": [
    "+ Jupyter\n",
    "  + [Project home page](http://jupyter.org)\n",
    "  + [List of kernels in other languages](https://github.com/ipython/ipython/wiki/IPython-kernels-for-other-languages)\n",
    "  + [Jupyter client/kernel interface spec](http://jupyter-client.readthedocs.org/en/latest/index.html)\n",
    "+ Maxima\n",
    "  + [Project home page](http://maxima.sourceforge.net)\n",
    "+ Maxima-Jupyter\n",
    "  + [Project home page](https://github.com/robert-dodier/maxima-jupyter)\n",
    "  + [Example Maxima-Jupyter notebook](http://nbviewer.ipython.org/github/robert-dodier/maxima-jupyter/blob/master/MaximaJupyterExample.ipynb)\n",
    "+ About the author\n",
    "  + [Robert Dodier](http://linkedin.com/in/robertdodier)"
   ]
  }
 ],
 "metadata": {
  "kernelspec": {
   "display_name": "Maxima",
   "language": "maxima",
   "name": "maxima"
  },
  "language_info": {
   "codemirror_mode": "maxima",
   "mimetype": "text/x-maxima",
   "name": "maxima",
   "pygments_lexer": "maxima",
   "version": "5.41.0"
  }
 },
 "nbformat": 4,
 "nbformat_minor": 1
}
