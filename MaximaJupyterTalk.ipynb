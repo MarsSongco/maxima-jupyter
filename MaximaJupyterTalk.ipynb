{
 "cells": [
  {
   "cell_type": "markdown",
   "metadata": {},
   "source": [
    "### Jupyter"
   ]
  },
  {
   "cell_type": "markdown",
   "metadata": {},
   "source": [
    "+ Language-independent part of IPython\n",
    "+ Provides user interfaces (console, notebook)\n",
    "  + browser is UI for notebook server\n",
    "  + convenient cell editing (markdown / code) and evaluation\n",
    "  + notebook provides checkpoint functions in addition to create/save/load\n",
    "  + manage kernel (stop / restart / reconnect)\n",
    "+ Provides document generators (nbconvert)\n",
    "  + HTML, PDF, markdown, code-only, reStructuredText, LaTeX"
   ]
  },
  {
   "cell_type": "markdown",
   "metadata": {},
   "source": [
    "### Maxima"
   ]
  },
  {
   "cell_type": "markdown",
   "metadata": {},
   "source": [
    "+ Computer algebra == formal (ignoring content) manipulation of expressions\n",
    "+ Maxima covers undergraduate math, more or less\n",
    "+ Started in 1968 as part of Project MAC (\"machine-aided cognition\")\n",
    "+ Written in Lisp, now open source, active community\n",
    "+ Standard UI is ASCII-art console (useful, not pretty)\n",
    "+ I'd like to use Jupyter as a UI to compose math + text documents"
   ]
  },
  {
   "cell_type": "markdown",
   "metadata": {},
   "source": [
    "### Jupyter architecture"
   ]
  },
  {
   "cell_type": "markdown",
   "metadata": {},
   "source": [
    "+ Client (front end) separated from kernel (back end)\n",
    "+ Client and kernel talk through sockets provided by ZeroMQ\n"
   ]
  },
  {
   "cell_type": "markdown",
   "metadata": {},
   "source": [
    "### Jupyter architecture diagram"
   ]
  },
  {
   "cell_type": "markdown",
   "metadata": {},
   "source": [
    "![jupyter architecture diagram](http://jupyter-client.readthedocs.org/en/latest/_images/frontend-kernel.png \"Jupyter architecture diagram\")"
   ]
  },
  {
   "cell_type": "markdown",
   "metadata": {},
   "source": [
    "### Messages"
   ]
  },
  {
   "cell_type": "markdown",
   "metadata": {},
   "source": [
    "+ Evaluation:\n",
    "  + Client reads user input, sends string to kernel, e.g.: `\"diff(exp(a*x), x)\"`\n",
    "  + Kernel parses input, calls Maxima function to evaluate, returns result in two forms:\n",
    "    + as the printed form of a Maxima expression\n",
    "    + as LaTeX\n",
    "  + Client chooses an appropriate form to display\n",
    "+ Plot output:\n",
    "  + Same as evaluation, but result is returned as SVG\n",
    "+ Maxima-initiated questions (`asksign`):\n",
    "  + Maxima wants to ask user about the sign of some expression\n",
    "  + Kernel sends input prompt to client\n",
    "  + Client prints prompt, reads user input, sends string to kernel\n",
    "  + Kernel passes user input to Maxima\n",
    "  + Maxima completes whatever it was working on before"
   ]
  },
  {
   "cell_type": "markdown",
   "metadata": {},
   "source": [
    "### Examples"
   ]
  },
  {
   "cell_type": "markdown",
   "metadata": {},
   "source": [
    "#### Formulate an expression"
   ]
  },
  {
   "cell_type": "code",
   "execution_count": 2,
   "metadata": {
    "collapsed": false
   },
   "outputs": [
    {
     "data": {
      "text/latex": [
       "$${{d^2}\\over{d\\,x^2\\,\\left(\\sqrt{1-a\\,x^2}+1\\right)}}$$"
      ],
      "text/plain": [
       "'diff(1/(1+sqrt(1-a*x^2)),x,2)"
      ]
     },
     "execution_count": 2,
     "metadata": {},
     "output_type": "execute_result"
    }
   ],
   "source": [
    "foo : 'diff (1/(1 + sqrt(1 - a*x^2)), x, 2)"
   ]
  },
  {
   "cell_type": "markdown",
   "metadata": {},
   "source": [
    "#### Evaluate"
   ]
  },
  {
   "cell_type": "code",
   "execution_count": 3,
   "metadata": {
    "collapsed": false
   },
   "outputs": [
    {
     "data": {
      "text/latex": [
       "$${{a}\\over{\\sqrt{1-a\\,x^2}\\,\\left(1+\\sqrt{1-a\\,x^2}\\right)^2}}+{{a^2\n",
       " \\,x^2}\\over{\\left(1-a\\,x^2\\right)^{{{3}\\over{2}}}\\,\\left(1+\\sqrt{1-a\n",
       " \\,x^2}\\right)^2}}+{{2\\,a^2\\,x^2}\\over{\\left(1-a\\,x^2\\right)\\,\\left(1\n",
       " +\\sqrt{1-a\\,x^2}\\right)^3}}$$"
      ],
      "text/plain": [
       "a/(sqrt(1-a*x^2)*(1+sqrt(1-a*x^2))^2)+(a^2*x^2)\n",
       "                                      /((1-a*x^2)^(3/2)*(1+sqrt(1-a*x^2))^2)\n",
       "                                     +(2*a^2*x^2)\n",
       "                                      /((1-a*x^2)*(1+sqrt(1-a*x^2))^3)"
      ]
     },
     "execution_count": 3,
     "metadata": {},
     "output_type": "execute_result"
    }
   ],
   "source": [
    "bar : ev (foo, nouns)"
   ]
  },
  {
   "cell_type": "markdown",
   "metadata": {},
   "source": [
    "#### asksign prompt"
   ]
  },
  {
   "cell_type": "code",
   "execution_count": 4,
   "metadata": {
    "collapsed": false
   },
   "outputs": [
    {
     "name": "stdout",
     "output_type": "stream",
     "text": [
      "Is k equal to - 1?\n",
      "y\n"
     ]
    },
    {
     "data": {
      "text/latex": [
       "$$\\log x$$"
      ],
      "text/plain": [
       "log(x)"
      ]
     },
     "execution_count": 4,
     "metadata": {},
     "output_type": "execute_result"
    }
   ],
   "source": [
    "integrate (x^k, x)"
   ]
  },
  {
   "cell_type": "code",
   "execution_count": 5,
   "metadata": {
    "collapsed": false
   },
   "outputs": [
    {
     "name": "stdout",
     "output_type": "stream",
     "text": [
      "Is k equal to - 1?\n",
      "n\n"
     ]
    },
    {
     "data": {
      "text/latex": [
       "$${{x^{1+k}}\\over{k+1}}$$"
      ],
      "text/plain": [
       "x^(k+1)/(1+k)"
      ]
     },
     "execution_count": 5,
     "metadata": {},
     "output_type": "execute_result"
    }
   ],
   "source": [
    "integrate (x^k, x)"
   ]
  },
  {
   "cell_type": "markdown",
   "metadata": {},
   "source": [
    "#### Plot output"
   ]
  },
  {
   "cell_type": "code",
   "execution_count": 6,
   "metadata": {
    "collapsed": false
   },
   "outputs": [
    {
     "data": {
      "image/svg+xml": [
       "<?xml version=\"1.0\" encoding=\"utf-8\"  standalone=\"no\"?>\n",
       "<!DOCTYPE svg PUBLIC \"-//W3C//DTD SVG 1.1//EN\" \n",
       " \"http://www.w3.org/Graphics/SVG/1.1/DTD/svg11.dtd\">\n",
       "<svg \n",
       " width=\"600\" height=\"480\" \n",
       " viewBox=\"0 0 600 480\"\n",
       " xmlns=\"http://www.w3.org/2000/svg\"\n",
       " xmlns:xlink=\"http://www.w3.org/1999/xlink\"\n",
       ">\n",
       "\n",
       "<title>Gnuplot</title>\n",
       "<desc>Produced by GNUPLOT 4.6 patchlevel 4 </desc>\n",
       "\n",
       "<g id=\"gnuplot_canvas\">\n",
       "\n",
       "<rect x=\"0\" y=\"0\" width=\"600\" height=\"480\" fill=\"none\"/>\n",
       "<defs>\n",
       "\n",
       " <circle id='gpDot' r='0.5' stroke-width='0.5'/>\n",
       " <path id='gpPt0' stroke-width='0.190' stroke='currentColor' d='M-1,0 h2 M0,-1 v2'/>\n",
       " <path id='gpPt1' stroke-width='0.190' stroke='currentColor' d='M-1,-1 L1,1 M1,-1 L-1,1'/>\n",
       " <path id='gpPt2' stroke-width='0.190' stroke='currentColor' d='M-1,0 L1,0 M0,-1 L0,1 M-1,-1 L1,1 M-1,1 L1,-1'/>\n",
       " <rect id='gpPt3' stroke-width='0.190' stroke='currentColor' x='-1' y='-1' width='2' height='2'/>\n",
       " <rect id='gpPt4' stroke-width='0.190' stroke='currentColor' fill='currentColor' x='-1' y='-1' width='2' height='2'/>\n",
       " <circle id='gpPt5' stroke-width='0.190' stroke='currentColor' cx='0' cy='0' r='1'/>\n",
       " <use xlink:href='#gpPt5' id='gpPt6' fill='currentColor' stroke='none'/>\n",
       " <path id='gpPt7' stroke-width='0.190' stroke='currentColor' d='M0,-1.33 L-1.33,0.67 L1.33,0.67 z'/>\n",
       " <use xlink:href='#gpPt7' id='gpPt8' fill='currentColor' stroke='none'/>\n",
       " <use xlink:href='#gpPt7' id='gpPt9' stroke='currentColor' transform='rotate(180)'/>\n",
       " <use xlink:href='#gpPt9' id='gpPt10' fill='currentColor' stroke='none'/>\n",
       " <use xlink:href='#gpPt3' id='gpPt11' stroke='currentColor' transform='rotate(45)'/>\n",
       " <use xlink:href='#gpPt11' id='gpPt12' fill='currentColor' stroke='none'/>\n",
       "</defs>\n",
       "<g style=\"fill:none; color:white; stroke:currentColor; stroke-width:1.00; stroke-linecap:butt; stroke-linejoin:miter\">\n",
       "</g>\n",
       "<g style=\"fill:none; color:gray; stroke:currentColor; stroke-width:1.00; stroke-linecap:butt; stroke-linejoin:miter\">\n",
       " <path stroke='gray' stroke-dasharray=' 2,4'  d='M53.3,216.1 L570.8,216.1 M312.1,410.2 L312.1,22.1  h0.01'/></g>\n",
       "<g style=\"fill:none; color:black; stroke:currentColor; stroke-width:1.00; stroke-linecap:butt; stroke-linejoin:miter\">\n",
       " <path stroke='black'  d='M53.3,22.1 L53.3,410.2 L570.8,410.2 L570.8,22.1 L53.3,22.1 Z  h0.01'/> <g transform=\"translate(312.0,467.9)\" style=\"stroke:none; fill:black; font-family:Arial; font-size:14.00pt; text-anchor:middle\">\n",
       "  <text>x</text>\n",
       " </g>\n",
       "</g>\n",
       " <g id=\"gnuplot_plot_1\" ><title>gnuplot_plot_1</title>\n",
       "<g style=\"fill:none; color:red; stroke:currentColor; stroke-width:1.00; stroke-linecap:butt; stroke-linejoin:miter\">\n",
       " <path stroke='rgb(  0,   0, 255)'  d='M194.7,23.7 L194.9,30.9 L195.2,37.7 L195.5,44.1 L195.8,50.2 L196.1,56.0 L196.3,61.4 L196.6,66.6 \n",
       "  L196.9,71.5 L197.2,76.1 L197.5,80.6 L197.7,84.8 L198.0,88.8 L198.3,92.6 L198.6,96.2 L198.8,99.7 \n",
       "  L199.1,103.0 L199.4,106.2 L199.7,109.3 L200.0,112.2 L200.2,115.0 L200.5,117.7 L200.8,120.2 L201.1,122.7 \n",
       "  L201.4,125.1 L201.6,127.3 L201.9,129.5 L202.2,131.6 L202.5,133.7 L202.8,135.6 L203.0,137.5 L203.3,139.3 \n",
       "  L203.6,141.1 L203.9,142.8 L204.1,144.4 L204.4,146.0 L204.7,147.5 L205.0,149.0 L205.3,150.4 L205.5,151.8 \n",
       "  L205.8,153.1 L206.1,154.4 L206.4,155.7 L206.7,156.9 L206.9,158.1 L207.2,159.2 L207.5,160.3 L207.8,161.4 \n",
       "  L208.0,162.4 L208.3,163.4 L208.6,164.4 L208.9,165.4 L209.2,166.3 L209.4,167.2 L209.7,168.1 L210.0,168.9 \n",
       "  L210.3,169.7 L210.6,170.6 L210.8,171.3 L211.1,172.1 L211.4,172.8 L211.7,173.6 L212.0,174.3 L212.2,175.0 \n",
       "  L212.5,175.6 L212.8,176.3 L213.1,176.9 L213.3,177.5 L213.6,178.2 L213.9,178.7 L214.5,179.9 L215.0,181.0 \n",
       "  L215.6,182.0 L216.1,183.0 L216.7,184.0 L217.2,184.9 L217.8,185.7 L218.4,186.6 L218.9,187.4 L219.5,188.1 \n",
       "  L220.0,188.8 L220.6,189.5 L221.2,190.2 L221.7,190.9 L222.3,191.5 L222.8,192.1 L223.4,192.7 L223.9,193.2 \n",
       "  L224.5,193.8 L225.1,194.3 L225.6,194.8 L226.2,195.2 L226.7,195.7 L227.3,196.2 L227.8,196.6 L228.4,197.0 \n",
       "  L229.0,197.4 L229.5,197.8 L230.1,198.2 L230.6,198.5 L231.2,198.9 L231.7,199.2 L232.3,199.5 L232.9,199.9 \n",
       "  L233.4,200.2 L234.0,200.5 L234.5,200.8 L235.1,201.0 L235.7,201.3 L236.2,201.6 L236.8,201.8 L237.3,202.1 \n",
       "  L237.9,202.3 L238.4,202.6 L239.0,202.8 L239.6,203.0 L240.1,203.2 L240.7,203.5 L241.2,203.7 L241.8,203.9 \n",
       "  L242.3,204.1 L242.9,204.2 L243.5,204.4 L244.0,204.6 L244.6,204.8 L245.1,204.9 L245.7,205.1 L246.2,205.3 \n",
       "  L246.8,205.4 L247.4,205.6 L247.9,205.7 L248.5,205.9 L249.0,206.0 L249.6,206.2 L250.2,206.3 L250.7,206.4 \n",
       "  L251.3,206.5 L251.8,206.7 L252.4,206.8 L252.9,206.9 L253.5,207.0 L254.1,207.1 L254.6,207.2 L255.2,207.4 \n",
       "  L255.7,207.5 L256.3,207.6 L256.8,207.7 L257.4,207.8 L258.0,207.9 L258.5,208.0 L259.1,208.0 L259.6,208.1 \n",
       "  L260.2,208.2 L260.7,208.3 L261.3,208.4 L261.9,208.5 L262.4,208.5 L263.0,208.6 L263.5,208.7 L264.1,208.8 \n",
       "  L264.6,208.8 L265.2,208.9 L265.8,209.0 L266.3,209.1 L266.9,209.1 L267.4,209.2 L268.0,209.3 L268.6,209.3 \n",
       "  L269.1,209.4 L269.7,209.4 L270.2,209.5 L270.8,209.5 L271.3,209.6 L271.9,209.7 L272.5,209.7 L273.0,209.8 \n",
       "  L273.6,209.8 L274.1,209.9 L274.7,209.9 L275.2,210.0 L275.8,210.0 L276.4,210.0 L276.9,210.1 L277.5,210.1 \n",
       "  L278.0,210.2 L278.6,210.2 L279.1,210.3 L279.7,210.3 L280.3,210.3 L280.8,210.4 L281.4,210.4 L281.9,210.4 \n",
       "  L282.5,210.5 L283.1,210.5 L283.6,210.5 L284.2,210.6 L284.7,210.6 L285.3,210.6 L285.8,210.7 L286.4,210.7 \n",
       "  L287.0,210.7 L287.5,210.7 L288.1,210.8 L288.6,210.8 L289.2,210.8 L289.7,210.8 L290.3,210.9 L290.9,210.9 \n",
       "  L291.4,210.9 L292.0,210.9 L292.5,211.0 L293.1,211.0 L293.6,211.0 L294.2,211.0 L295.3,211.0 L296.4,211.1 \n",
       "  L297.6,211.1 L298.7,211.1 L299.8,211.2 L300.9,211.2 L302.0,211.2 L303.1,211.2 L304.2,211.2 L305.4,211.3 \n",
       "  L306.5,211.3 L307.6,211.3 L308.7,211.3 L309.8,211.3 L310.9,211.3 L312.1,211.3 L312.6,211.3 L313.2,211.3 \n",
       "  L313.7,211.3 L314.3,211.3 L314.8,211.3 L315.4,211.3 L316.0,211.3 L316.5,211.3 L317.6,211.3 L318.7,211.3 \n",
       "  L319.9,211.2 L321.0,211.2 L322.1,211.2 L323.2,211.2 L324.3,211.2 L325.4,211.1 L326.5,211.1 L327.7,211.1 \n",
       "  L328.8,211.0 L329.9,211.0 L331.0,211.0 L332.1,210.9 L333.2,210.9 L334.4,210.8 L335.5,210.8 L336.6,210.7 \n",
       "  L337.7,210.7 L338.8,210.6 L339.9,210.6 L341.0,210.5 L342.2,210.4 L343.3,210.4 L344.4,210.3 L345.5,210.2 \n",
       "  L346.6,210.1 L347.7,210.0 L348.9,210.0 L350.0,209.9 L351.1,209.8 L352.2,209.7 L353.3,209.5 L354.4,209.4 \n",
       "  L355.5,209.3 L356.7,209.2 L357.2,209.1 L357.8,209.1 L358.3,209.0 L358.9,208.9 L359.5,208.8 L360.0,208.8 \n",
       "  L360.6,208.7 L361.1,208.6 L361.7,208.5 L362.2,208.5 L362.8,208.4 L363.4,208.3 L363.9,208.2 L364.5,208.1 \n",
       "  L365.0,208.0 L365.6,208.0 L366.1,207.9 L366.7,207.8 L367.3,207.7 L367.8,207.6 L368.4,207.5 L368.9,207.4 \n",
       "  L369.5,207.2 L370.0,207.1 L370.6,207.0 L371.2,206.9 L371.7,206.8 L372.3,206.7 L372.8,206.5 L373.4,206.4 \n",
       "  L373.9,206.3 L374.5,206.2 L375.1,206.0 L375.6,205.9 L376.2,205.7 L376.7,205.6 L377.3,205.4 L377.9,205.3 \n",
       "  L378.4,205.1 L379.0,204.9 L379.5,204.8 L380.1,204.6 L380.6,204.4 L381.2,204.2 L381.8,204.1 L382.3,203.9 \n",
       "  L382.9,203.7 L383.4,203.5 L384.0,203.2 L384.5,203.0 L385.1,202.8 L385.7,202.6 L386.2,202.3 L386.8,202.1 \n",
       "  L387.3,201.8 L387.9,201.6 L388.4,201.3 L389.0,201.0 L389.6,200.8 L390.1,200.5 L390.7,200.2 L391.2,199.9 \n",
       "  L391.8,199.5 L392.4,199.2 L392.9,198.9 L393.5,198.5 L394.0,198.2 L394.6,197.8 L395.1,197.4 L395.7,197.0 \n",
       "  L396.3,196.6 L396.8,196.2 L397.4,195.7 L397.9,195.2 L398.5,194.8 L399.0,194.3 L399.6,193.8 L400.2,193.2 \n",
       "  L400.7,192.7 L401.3,192.1 L401.8,191.5 L402.4,190.9 L402.9,190.2 L403.5,189.5 L404.1,188.8 L404.6,188.1 \n",
       "  L405.2,187.4 L405.7,186.6 L406.3,185.7 L406.9,184.9 L407.4,184.0 L408.0,183.0 L408.5,182.0 L409.1,181.0 \n",
       "  L409.6,179.9 L410.2,178.7 L410.8,177.5 L411.3,176.3 L411.9,175.0 L412.4,173.6 L413.0,172.1 L413.5,170.6 \n",
       "  L414.1,168.9 L414.7,167.2 L414.9,166.3 L415.2,165.4 L415.5,164.4 L415.8,163.4 L416.1,162.4 L416.3,161.4 \n",
       "  L416.6,160.3 L416.9,159.2 L417.2,158.1 L417.4,156.9 L417.7,155.7 L418.0,154.4 L418.3,153.1 L418.6,151.8 \n",
       "  L418.8,150.4 L419.1,149.0 L419.4,147.5 L419.7,146.0 L420.0,144.4 L420.2,142.8 L420.5,141.1 L420.8,139.3 \n",
       "  L421.1,137.5 L421.3,135.6 L421.6,133.7 L421.9,131.6 L422.2,129.5 L422.5,127.3 L422.7,125.1 L423.0,122.7 \n",
       "  L423.3,120.2 L423.6,117.7 L423.9,115.0 L424.1,112.2 L424.4,109.3 L424.7,106.2 L425.0,103.0 L425.3,99.7 \n",
       "  L425.5,96.2 L425.8,92.6 L426.1,88.8 L426.4,84.8 L426.6,80.6 L426.9,76.1 L427.2,71.5 L427.5,66.6 \n",
       "  L427.8,61.4 L428.0,56.0 L428.3,50.2 L428.6,44.1 L428.9,37.7 L429.2,30.9 L429.4,23.7  h0.01'/></g>\n",
       " </g>\n",
       "<g style=\"fill:none; color:black; stroke:currentColor; stroke-width:1.00; stroke-linecap:butt; stroke-linejoin:miter\">\n",
       " <path stroke='black'  d='M53.3,410.2 L63.8,410.2 M570.8,410.2 L560.3,410.2  h0.01'/> <g transform=\"translate(43.6,415.4)\" style=\"stroke:none; fill:black; font-family:Arial; font-size:14.00pt; text-anchor:end\">\n",
       "  <text>-10</text>\n",
       " </g>\n",
       " <path stroke='black'  d='M53.3,313.2 L63.8,313.2 M570.8,313.2 L560.3,313.2  h0.01'/> <g transform=\"translate(43.6,318.4)\" style=\"stroke:none; fill:black; font-family:Arial; font-size:14.00pt; text-anchor:end\">\n",
       "  <text>-5</text>\n",
       " </g>\n",
       " <path stroke='black'  d='M53.3,216.1 L63.8,216.1 M570.8,216.1 L560.3,216.1  h0.01'/> <g transform=\"translate(43.6,221.3)\" style=\"stroke:none; fill:black; font-family:Arial; font-size:14.00pt; text-anchor:end\">\n",
       "  <text> 0</text>\n",
       " </g>\n",
       " <path stroke='black'  d='M53.3,119.1 L63.8,119.1 M570.8,119.1 L560.3,119.1  h0.01'/> <g transform=\"translate(43.6,124.3)\" style=\"stroke:none; fill:black; font-family:Arial; font-size:14.00pt; text-anchor:end\">\n",
       "  <text> 5</text>\n",
       " </g>\n",
       " <path stroke='black'  d='M53.3,22.1 L63.8,22.1 M570.8,22.1 L560.3,22.1  h0.01'/> <g transform=\"translate(43.6,27.3)\" style=\"stroke:none; fill:black; font-family:Arial; font-size:14.00pt; text-anchor:end\">\n",
       "  <text> 10</text>\n",
       " </g>\n",
       " <path stroke='black'  d='M53.3,410.2 L53.3,399.7 M53.3,22.1 L53.3,32.6  h0.01'/> <g transform=\"translate(53.3,436.4)\" style=\"stroke:none; fill:black; font-family:Arial; font-size:14.00pt; text-anchor:middle\">\n",
       "  <text>-2</text>\n",
       " </g>\n",
       " <path stroke='black'  d='M118.0,410.2 L118.0,399.7 M118.0,22.1 L118.0,32.6  h0.01'/> <g transform=\"translate(118.0,436.4)\" style=\"stroke:none; fill:black; font-family:Arial; font-size:14.00pt; text-anchor:middle\">\n",
       "  <text>-1.5</text>\n",
       " </g>\n",
       " <path stroke='black'  d='M182.7,410.2 L182.7,399.7 M182.7,22.1 L182.7,32.6  h0.01'/> <g transform=\"translate(182.7,436.4)\" style=\"stroke:none; fill:black; font-family:Arial; font-size:14.00pt; text-anchor:middle\">\n",
       "  <text>-1</text>\n",
       " </g>\n",
       " <path stroke='black'  d='M247.4,410.2 L247.4,399.7 M247.4,22.1 L247.4,32.6  h0.01'/> <g transform=\"translate(247.4,436.4)\" style=\"stroke:none; fill:black; font-family:Arial; font-size:14.00pt; text-anchor:middle\">\n",
       "  <text>-0.5</text>\n",
       " </g>\n",
       " <path stroke='black'  d='M312.1,410.2 L312.1,399.7 M312.1,22.1 L312.1,32.6  h0.01'/> <g transform=\"translate(312.1,436.4)\" style=\"stroke:none; fill:black; font-family:Arial; font-size:14.00pt; text-anchor:middle\">\n",
       "  <text> 0</text>\n",
       " </g>\n",
       " <path stroke='black'  d='M376.7,410.2 L376.7,399.7 M376.7,22.1 L376.7,32.6  h0.01'/> <g transform=\"translate(376.7,436.4)\" style=\"stroke:none; fill:black; font-family:Arial; font-size:14.00pt; text-anchor:middle\">\n",
       "  <text> 0.5</text>\n",
       " </g>\n",
       " <path stroke='black'  d='M441.4,410.2 L441.4,399.7 M441.4,22.1 L441.4,32.6  h0.01'/> <g transform=\"translate(441.4,436.4)\" style=\"stroke:none; fill:black; font-family:Arial; font-size:14.00pt; text-anchor:middle\">\n",
       "  <text> 1</text>\n",
       " </g>\n",
       " <path stroke='black'  d='M506.1,410.2 L506.1,399.7 M506.1,22.1 L506.1,32.6  h0.01'/> <g transform=\"translate(506.1,436.4)\" style=\"stroke:none; fill:black; font-family:Arial; font-size:14.00pt; text-anchor:middle\">\n",
       "  <text> 1.5</text>\n",
       " </g>\n",
       " <path stroke='black'  d='M570.8,410.2 L570.8,399.7 M570.8,22.1 L570.8,32.6  h0.01'/> <g transform=\"translate(570.8,436.4)\" style=\"stroke:none; fill:black; font-family:Arial; font-size:14.00pt; text-anchor:middle\">\n",
       "  <text> 2</text>\n",
       " </g>\n",
       "</g>\n",
       "<g style=\"fill:none; color:gray; stroke:currentColor; stroke-width:1.00; stroke-linecap:butt; stroke-linejoin:miter\">\n",
       " <path stroke='gray' stroke-dasharray=' 2,4'  d='M53.3,216.1 L570.8,216.1 M312.1,410.2 L312.1,22.1  h0.01'/></g>\n",
       "<g style=\"fill:none; color:black; stroke:currentColor; stroke-width:1.00; stroke-linecap:butt; stroke-linejoin:miter\">\n",
       " <path stroke='black'  d='M53.3,22.1 L53.3,410.2 L570.8,410.2 L570.8,22.1 L53.3,22.1 Z  h0.01'/></g>\n",
       "</g>\n",
       "</svg>\n",
       "\n"
      ],
      "text/plain": [
       "'plot2d(1/(sqrt(1-x^2)*(1+sqrt(1-x^2))^2)\n",
       "         +x^2/((1-x^2)^(3/2)*(1+sqrt(1-x^2))^2)\n",
       "         +(2*x^2)/((1-x^2)*(1+sqrt(1-x^2))^3),[x,-2,2],[y,-10,10])"
      ]
     },
     "execution_count": 6,
     "metadata": {},
     "output_type": "execute_result"
    }
   ],
   "source": [
    "'plot2d (subst (a = 1, bar), [x, -2, 2], [y, -10, 10])"
   ]
  },
  {
   "cell_type": "markdown",
   "metadata": {},
   "source": [
    "### Minor features"
   ]
  },
  {
   "cell_type": "markdown",
   "metadata": {},
   "source": [
    "+ Code syntax highlighting\n",
    "  + In browser via CodeMirror\n",
    "  + In HTML output via Pygments\n",
    "  + Maxima-specific stuff is encapsulated in a function which only does some regex matching"
   ]
  },
  {
   "cell_type": "markdown",
   "metadata": {},
   "source": [
    "### Links"
   ]
  },
  {
   "cell_type": "markdown",
   "metadata": {},
   "source": [
    "+ Jupyter\n",
    "  + [Project home page](http://jupyter.org)\n",
    "  + [List of kernels in other languages](https://github.com/ipython/ipython/wiki/IPython-kernels-for-other-languages)\n",
    "  + [Jupyter client/kernel interface spec](http://jupyter-client.readthedocs.org/en/latest/index.html)\n",
    "+ Maxima\n",
    "  + [Project home page](http://maxima.sourceforge.net)\n",
    "+ Maxima-Jupyter\n",
    "  + [Project home page](https://github.com/robert-dodier/maxima-jupyter)\n",
    "  + [Example Maxima-Jupyter notebook](http://nbviewer.ipython.org/github/robert-dodier/maxima-jupyter/blob/master/MaximaJupyterExample.ipynb)\n",
    "+ About the author\n",
    "  + [Robert Dodier](http://linkedin.com/in/robertdodier)"
   ]
  }
 ],
 "metadata": {
  "kernelspec": {
   "display_name": "Maxima",
   "language": "maxima",
   "name": "maxima"
  },
  "language_info": {
   "codemirror_mode": "maxima",
   "mimetype": "text/x-maxima",
   "name": "maxima",
   "pygments_lexer": "maxima",
   "version": "circa-5.37"
  }
 },
 "nbformat": 4,
 "nbformat_minor": 0
}
