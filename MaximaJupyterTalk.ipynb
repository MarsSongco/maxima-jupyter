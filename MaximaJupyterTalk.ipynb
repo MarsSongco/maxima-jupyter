{
 "cells": [
  {
   "cell_type": "markdown",
   "metadata": {},
   "source": [
    "### Jupyter"
   ]
  },
  {
   "cell_type": "markdown",
   "metadata": {},
   "source": [
    "+ Language-independent part of IPython\n",
    "+ Provides user interfaces (console, notebook)\n",
    "  + browser is UI for notebook server\n",
    "  + convenient cell editing (markdown / code) and evaluation\n",
    "  + notebook provides checkpoint functions in addition to create/save/load\n",
    "  + manage kernel (stop / restart / reconnect)\n",
    "+ Provides document generators (nbconvert)\n",
    "  + HTML, PDF, markdown, code-only, reStructuredText, LaTeX"
   ]
  },
  {
   "cell_type": "markdown",
   "metadata": {},
   "source": [
    "### Maxima"
   ]
  },
  {
   "cell_type": "markdown",
   "metadata": {},
   "source": [
    "+ Computer algebra == formal (ignoring content) manipulation of expressions\n",
    "+ Maxima covers undergraduate math, more or less\n",
    "+ Started in 1968 as part of Project MAC (\"machine-aided cognition\")\n",
    "+ Written in Lisp, now open source, active community\n",
    "+ Standard UI is ASCII-art console (useful, not pretty)\n",
    "+ I'd like to use Jupyter as a UI to compose math + text documents"
   ]
  },
  {
   "cell_type": "markdown",
   "metadata": {},
   "source": [
    "### Jupyter architecture"
   ]
  },
  {
   "cell_type": "markdown",
   "metadata": {},
   "source": [
    "+ Client (front end) separated from kernel (back end)\n",
    "+ Client and kernel talk through sockets provided by ZeroMQ\n"
   ]
  },
  {
   "cell_type": "markdown",
   "metadata": {},
   "source": [
    "### Jupyter architecture diagram"
   ]
  },
  {
   "cell_type": "markdown",
   "metadata": {},
   "source": [
    "![jupyter architecture diagram](http://jupyter-client.readthedocs.org/en/latest/_images/frontend-kernel.png \"Jupyter architecture diagram\")"
   ]
  },
  {
   "cell_type": "markdown",
   "metadata": {},
   "source": [
    "### Messages"
   ]
  },
  {
   "cell_type": "markdown",
   "metadata": {},
   "source": [
    "+ Evaluation:\n",
    "  + Client reads user input, sends string to kernel, e.g.: `\"diff(exp(a*x), x)\"`\n",
    "  + Kernel parses input, calls Maxima function to evaluate, returns result in two forms:\n",
    "    + as the printed form of a Maxima expression\n",
    "    + as LaTeX\n",
    "  + Client chooses an appropriate form to display\n",
    "+ Plot output:\n",
    "  + Same as evaluation, but result is returned as SVG\n",
    "+ Maxima-initiated questions (`asksign`):\n",
    "  + Maxima wants to ask user about the sign of some expression\n",
    "  + Kernel sends input prompt to client\n",
    "  + Client prints prompt, reads user input, sends string to kernel\n",
    "  + Kernel passes user input to Maxima\n",
    "  + Maxima completes whatever it was working on before"
   ]
  },
  {
   "cell_type": "markdown",
   "metadata": {},
   "source": [
    "### Examples"
   ]
  },
  {
   "cell_type": "markdown",
   "metadata": {},
   "source": [
    "#### Formulate an expression"
   ]
  },
  {
   "cell_type": "code",
   "execution_count": null,
   "metadata": {
    "collapsed": false
   },
   "outputs": [],
   "source": [
    "foo : 'diff (1/(1 + sqrt(1 - a*x^2)), x, 2)"
   ]
  },
  {
   "cell_type": "markdown",
   "metadata": {},
   "source": [
    "#### Evaluate"
   ]
  },
  {
   "cell_type": "code",
   "execution_count": null,
   "metadata": {
    "collapsed": false
   },
   "outputs": [],
   "source": [
    "bar : ev (foo, nouns)"
   ]
  },
  {
   "cell_type": "markdown",
   "metadata": {},
   "source": [
    "#### asksign prompt"
   ]
  },
  {
   "cell_type": "code",
   "execution_count": null,
   "metadata": {
    "collapsed": false
   },
   "outputs": [],
   "source": [
    "integrate (x^k, x)"
   ]
  },
  {
   "cell_type": "code",
   "execution_count": null,
   "metadata": {
    "collapsed": false
   },
   "outputs": [],
   "source": [
    "integrate (x^k, x)"
   ]
  },
  {
   "cell_type": "markdown",
   "metadata": {},
   "source": [
    "#### Plot output"
   ]
  },
  {
   "cell_type": "code",
   "execution_count": null,
   "metadata": {
    "collapsed": false
   },
   "outputs": [],
   "source": [
    "'plot2d (subst (a = 1, bar), [x, -2, 2], [y, -10, 10])"
   ]
  },
  {
   "cell_type": "markdown",
   "metadata": {},
   "source": [
    "### Minor features"
   ]
  },
  {
   "cell_type": "markdown",
   "metadata": {},
   "source": [
    "+ Code syntax highlighting\n",
    "  + In browser via CodeMirror\n",
    "  + In HTML output via Pygments\n",
    "  + Maxima-specific stuff is encapsulated in a function which only does some regex matching"
   ]
  },
  {
   "cell_type": "markdown",
   "metadata": {},
   "source": [
    "### Links"
   ]
  },
  {
   "cell_type": "markdown",
   "metadata": {},
   "source": [
    "+ Jupyter\n",
    "  + [Project home page](http://jupyter.org)\n",
    "  + [List of kernels in other languages](https://github.com/ipython/ipython/wiki/IPython-kernels-for-other-languages)\n",
    "  + [Jupyter client/kernel interface spec](http://jupyter-client.readthedocs.org/en/latest/index.html)\n",
    "+ Maxima\n",
    "  + [Project home page](http://maxima.sourceforge.net)\n",
    "+ Maxima-Jupyter\n",
    "  + [Project home page](https://github.com/robert-dodier/maxima-jupyter)\n",
    "  + [Example Maxima-Jupyter notebook](http://nbviewer.ipython.org/github/robert-dodier/maxima-jupyter/blob/master/MaximaJupyterExample.ipynb)\n",
    "+ About the author\n",
    "  + [Robert Dodier](http://linkedin.com/in/robertdodier)"
   ]
  }
 ],
 "metadata": {
  "kernelspec": {
   "display_name": "Maxima",
   "language": "maxima",
   "name": "maxima"
  },
  "language_info": {
   "codemirror_mode": "maxima",
   "mimetype": "text/x-maxima",
   "name": "maxima",
   "pygments_lexer": "maxima",
   "version": "circa-5.37"
  }
 },
 "nbformat": 4,
 "nbformat_minor": 0
}
